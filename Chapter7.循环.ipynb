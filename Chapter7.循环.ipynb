{
 "cells": [
  {
   "cell_type": "markdown",
   "id": "8d452c0a",
   "metadata": {},
   "source": [
    "# R语言循环语句"
   ]
  },
  {
   "cell_type": "markdown",
   "id": "9ada7648",
   "metadata": {},
   "source": [
    "R语言提供的循环语句有：\n",
    "1. for循环\n",
    "2. repeat循环\n",
    "3. while循环\n",
    "\n",
    "R语言提供的循环控制语句有：\n",
    "1. break语句\n",
    "2. next语句"
   ]
  },
  {
   "cell_type": "markdown",
   "id": "3cfcd2c5",
   "metadata": {},
   "source": [
    "## for循环"
   ]
  },
  {
   "cell_type": "markdown",
   "id": "becdfdbb",
   "metadata": {},
   "source": [
    "R 编程语言中 for 循环语句可以重复执行指定语句，重复次数可在 for 语句中控制。\n",
    "\n",
    "语法格式如下："
   ]
  },
  {
   "cell_type": "markdown",
   "id": "d7fd070f",
   "metadata": {},
   "source": [
    "for (value in vector) \n",
    "\n",
    "{\n",
    "    statements\n",
    "}"
   ]
  },
  {
   "cell_type": "markdown",
   "id": "72544ca2",
   "metadata": {},
   "source": [
    "R 语言的 for 循环特别灵活，不仅可以循环整数变量，还可以对字符向量，逻辑向量，列表等数据类型进行迭代。\n",
    "\n",
    "以下实例输出 26 个字母对前面四个字母"
   ]
  },
  {
   "cell_type": "code",
   "execution_count": 3,
   "id": "2369acaf",
   "metadata": {},
   "outputs": [
    {
     "data": {
      "text/html": [
       "<style>\n",
       ".list-inline {list-style: none; margin:0; padding: 0}\n",
       ".list-inline>li {display: inline-block}\n",
       ".list-inline>li:not(:last-child)::after {content: \"\\00b7\"; padding: 0 .5ex}\n",
       "</style>\n",
       "<ol class=list-inline><li>'A'</li><li>'B'</li><li>'C'</li><li>'D'</li></ol>\n"
      ],
      "text/latex": [
       "\\begin{enumerate*}\n",
       "\\item 'A'\n",
       "\\item 'B'\n",
       "\\item 'C'\n",
       "\\item 'D'\n",
       "\\end{enumerate*}\n"
      ],
      "text/markdown": [
       "1. 'A'\n",
       "2. 'B'\n",
       "3. 'C'\n",
       "4. 'D'\n",
       "\n",
       "\n"
      ],
      "text/plain": [
       "[1] \"A\" \"B\" \"C\" \"D\""
      ]
     },
     "metadata": {},
     "output_type": "display_data"
    },
    {
     "name": "stdout",
     "output_type": "stream",
     "text": [
      "[1] \"A\"\n",
      "[1] \"B\"\n",
      "[1] \"C\"\n",
      "[1] \"D\"\n"
     ]
    }
   ],
   "source": [
    "v <- LETTERS[1:4]\n",
    "v\n",
    "for (i in v)\n",
    "{\n",
    "    print(i)\n",
    "}"
   ]
  },
  {
   "cell_type": "code",
   "execution_count": 4,
   "id": "650b7a33",
   "metadata": {},
   "outputs": [
    {
     "name": "stdout",
     "output_type": "stream",
     "text": [
      "[1] \"A\"\n",
      "[1] \"B\"\n",
      "[1] \"C\"\n",
      "[1] \"D\"\n"
     ]
    }
   ],
   "source": [
    "for (i in 1:length(v))\n",
    "    {\n",
    "    print(v[i])\n",
    "}"
   ]
  },
  {
   "cell_type": "code",
   "execution_count": 6,
   "id": "69fab334",
   "metadata": {},
   "outputs": [],
   "source": [
    "library(tidyverse)\n",
    "\n",
    "df <- tibble(\n",
    "  a = rnorm(10),\n",
    "  b = rnorm(10),\n",
    "  c = rnorm(10),\n",
    "  d = rnorm(10)\n",
    ")"
   ]
  },
  {
   "cell_type": "code",
   "execution_count": 7,
   "id": "4cdd99ad",
   "metadata": {},
   "outputs": [
    {
     "data": {
      "text/html": [
       "<table class=\"dataframe\">\n",
       "<caption>A tibble: 10 × 4</caption>\n",
       "<thead>\n",
       "\t<tr><th scope=col>a</th><th scope=col>b</th><th scope=col>c</th><th scope=col>d</th></tr>\n",
       "\t<tr><th scope=col>&lt;dbl&gt;</th><th scope=col>&lt;dbl&gt;</th><th scope=col>&lt;dbl&gt;</th><th scope=col>&lt;dbl&gt;</th></tr>\n",
       "</thead>\n",
       "<tbody>\n",
       "\t<tr><td> 0.80591818</td><td> 1.38390992</td><td>-1.7790444</td><td>-1.89852788</td></tr>\n",
       "\t<tr><td>-0.70012506</td><td>-0.07827119</td><td> 0.4650127</td><td>-0.27076025</td></tr>\n",
       "\t<tr><td>-0.41813323</td><td> 1.91505417</td><td>-0.3363942</td><td>-0.84107710</td></tr>\n",
       "\t<tr><td> 0.63352007</td><td> 1.99676150</td><td> 0.8391021</td><td>-0.15165179</td></tr>\n",
       "\t<tr><td> 1.39585645</td><td> 1.12494308</td><td> 0.6680085</td><td>-0.06960897</td></tr>\n",
       "\t<tr><td> 2.13611213</td><td> 0.37507286</td><td>-1.0281409</td><td> 1.19371141</td></tr>\n",
       "\t<tr><td>-0.19430557</td><td> 0.47011362</td><td>-0.1996675</td><td>-0.82175730</td></tr>\n",
       "\t<tr><td>-1.21289856</td><td> 0.22791739</td><td> 0.9070531</td><td>-0.60170761</td></tr>\n",
       "\t<tr><td> 0.06137619</td><td> 1.72726134</td><td> 0.1307094</td><td>-0.15471159</td></tr>\n",
       "\t<tr><td> 0.13739889</td><td>-1.96582419</td><td> 0.8646320</td><td>-2.07222092</td></tr>\n",
       "</tbody>\n",
       "</table>\n"
      ],
      "text/latex": [
       "A tibble: 10 × 4\n",
       "\\begin{tabular}{llll}\n",
       " a & b & c & d\\\\\n",
       " <dbl> & <dbl> & <dbl> & <dbl>\\\\\n",
       "\\hline\n",
       "\t  0.80591818 &  1.38390992 & -1.7790444 & -1.89852788\\\\\n",
       "\t -0.70012506 & -0.07827119 &  0.4650127 & -0.27076025\\\\\n",
       "\t -0.41813323 &  1.91505417 & -0.3363942 & -0.84107710\\\\\n",
       "\t  0.63352007 &  1.99676150 &  0.8391021 & -0.15165179\\\\\n",
       "\t  1.39585645 &  1.12494308 &  0.6680085 & -0.06960897\\\\\n",
       "\t  2.13611213 &  0.37507286 & -1.0281409 &  1.19371141\\\\\n",
       "\t -0.19430557 &  0.47011362 & -0.1996675 & -0.82175730\\\\\n",
       "\t -1.21289856 &  0.22791739 &  0.9070531 & -0.60170761\\\\\n",
       "\t  0.06137619 &  1.72726134 &  0.1307094 & -0.15471159\\\\\n",
       "\t  0.13739889 & -1.96582419 &  0.8646320 & -2.07222092\\\\\n",
       "\\end{tabular}\n"
      ],
      "text/markdown": [
       "\n",
       "A tibble: 10 × 4\n",
       "\n",
       "| a &lt;dbl&gt; | b &lt;dbl&gt; | c &lt;dbl&gt; | d &lt;dbl&gt; |\n",
       "|---|---|---|---|\n",
       "|  0.80591818 |  1.38390992 | -1.7790444 | -1.89852788 |\n",
       "| -0.70012506 | -0.07827119 |  0.4650127 | -0.27076025 |\n",
       "| -0.41813323 |  1.91505417 | -0.3363942 | -0.84107710 |\n",
       "|  0.63352007 |  1.99676150 |  0.8391021 | -0.15165179 |\n",
       "|  1.39585645 |  1.12494308 |  0.6680085 | -0.06960897 |\n",
       "|  2.13611213 |  0.37507286 | -1.0281409 |  1.19371141 |\n",
       "| -0.19430557 |  0.47011362 | -0.1996675 | -0.82175730 |\n",
       "| -1.21289856 |  0.22791739 |  0.9070531 | -0.60170761 |\n",
       "|  0.06137619 |  1.72726134 |  0.1307094 | -0.15471159 |\n",
       "|  0.13739889 | -1.96582419 |  0.8646320 | -2.07222092 |\n",
       "\n"
      ],
      "text/plain": [
       "   a           b           c          d          \n",
       "1   0.80591818  1.38390992 -1.7790444 -1.89852788\n",
       "2  -0.70012506 -0.07827119  0.4650127 -0.27076025\n",
       "3  -0.41813323  1.91505417 -0.3363942 -0.84107710\n",
       "4   0.63352007  1.99676150  0.8391021 -0.15165179\n",
       "5   1.39585645  1.12494308  0.6680085 -0.06960897\n",
       "6   2.13611213  0.37507286 -1.0281409  1.19371141\n",
       "7  -0.19430557  0.47011362 -0.1996675 -0.82175730\n",
       "8  -1.21289856  0.22791739  0.9070531 -0.60170761\n",
       "9   0.06137619  1.72726134  0.1307094 -0.15471159\n",
       "10  0.13739889 -1.96582419  0.8646320 -2.07222092"
      ]
     },
     "metadata": {},
     "output_type": "display_data"
    }
   ],
   "source": [
    "df"
   ]
  },
  {
   "cell_type": "code",
   "execution_count": 8,
   "id": "e9e6be24",
   "metadata": {
    "scrolled": false
   },
   "outputs": [
    {
     "data": {
      "text/html": [
       "0.0993875402417401"
      ],
      "text/latex": [
       "0.0993875402417401"
      ],
      "text/markdown": [
       "0.0993875402417401"
      ],
      "text/plain": [
       "[1] 0.09938754"
      ]
     },
     "metadata": {},
     "output_type": "display_data"
    },
    {
     "data": {
      "text/html": [
       "0.797528353121989"
      ],
      "text/latex": [
       "0.797528353121989"
      ],
      "text/markdown": [
       "0.797528353121989"
      ],
      "text/plain": [
       "[1] 0.7975284"
      ]
     },
     "metadata": {},
     "output_type": "display_data"
    },
    {
     "data": {
      "text/html": [
       "0.297861049279809"
      ],
      "text/latex": [
       "0.297861049279809"
      ],
      "text/markdown": [
       "0.297861049279809"
      ],
      "text/plain": [
       "[1] 0.297861"
      ]
     },
     "metadata": {},
     "output_type": "display_data"
    },
    {
     "data": {
      "text/html": [
       "-0.436233932623961"
      ],
      "text/latex": [
       "-0.436233932623961"
      ],
      "text/markdown": [
       "-0.436233932623961"
      ],
      "text/plain": [
       "[1] -0.4362339"
      ]
     },
     "metadata": {},
     "output_type": "display_data"
    }
   ],
   "source": [
    "median(df$a)\n",
    "median(df$b)\n",
    "median(df$c)\n",
    "median(df$d)"
   ]
  },
  {
   "cell_type": "code",
   "execution_count": 13,
   "id": "5fda23e7",
   "metadata": {},
   "outputs": [
    {
     "data": {
      "text/html": [
       "<style>\n",
       ".list-inline {list-style: none; margin:0; padding: 0}\n",
       ".list-inline>li {display: inline-block}\n",
       ".list-inline>li:not(:last-child)::after {content: \"\\00b7\"; padding: 0 .5ex}\n",
       "</style>\n",
       "<ol class=list-inline><li>0</li><li>0</li><li>0</li><li>0</li></ol>\n"
      ],
      "text/latex": [
       "\\begin{enumerate*}\n",
       "\\item 0\n",
       "\\item 0\n",
       "\\item 0\n",
       "\\item 0\n",
       "\\end{enumerate*}\n"
      ],
      "text/markdown": [
       "1. 0\n",
       "2. 0\n",
       "3. 0\n",
       "4. 0\n",
       "\n",
       "\n"
      ],
      "text/plain": [
       "[1] 0 0 0 0"
      ]
     },
     "metadata": {},
     "output_type": "display_data"
    },
    {
     "data": {
      "text/html": [
       "<style>\n",
       ".list-inline {list-style: none; margin:0; padding: 0}\n",
       ".list-inline>li {display: inline-block}\n",
       ".list-inline>li:not(:last-child)::after {content: \"\\00b7\"; padding: 0 .5ex}\n",
       "</style>\n",
       "<ol class=list-inline><li>1</li><li>2</li><li>3</li><li>4</li></ol>\n"
      ],
      "text/latex": [
       "\\begin{enumerate*}\n",
       "\\item 1\n",
       "\\item 2\n",
       "\\item 3\n",
       "\\item 4\n",
       "\\end{enumerate*}\n"
      ],
      "text/markdown": [
       "1. 1\n",
       "2. 2\n",
       "3. 3\n",
       "4. 4\n",
       "\n",
       "\n"
      ],
      "text/plain": [
       "[1] 1 2 3 4"
      ]
     },
     "metadata": {},
     "output_type": "display_data"
    },
    {
     "data": {
      "text/html": [
       "<style>\n",
       ".list-inline {list-style: none; margin:0; padding: 0}\n",
       ".list-inline>li {display: inline-block}\n",
       ".list-inline>li:not(:last-child)::after {content: \"\\00b7\"; padding: 0 .5ex}\n",
       "</style>\n",
       "<ol class=list-inline><li>1</li><li>2</li><li>3</li><li>4</li></ol>\n"
      ],
      "text/latex": [
       "\\begin{enumerate*}\n",
       "\\item 1\n",
       "\\item 2\n",
       "\\item 3\n",
       "\\item 4\n",
       "\\end{enumerate*}\n"
      ],
      "text/markdown": [
       "1. 1\n",
       "2. 2\n",
       "3. 3\n",
       "4. 4\n",
       "\n",
       "\n"
      ],
      "text/plain": [
       "[1] 1 2 3 4"
      ]
     },
     "metadata": {},
     "output_type": "display_data"
    },
    {
     "data": {
      "text/html": [
       "<style>\n",
       ".list-inline {list-style: none; margin:0; padding: 0}\n",
       ".list-inline>li {display: inline-block}\n",
       ".list-inline>li:not(:last-child)::after {content: \"\\00b7\"; padding: 0 .5ex}\n",
       "</style>\n",
       "<ol class=list-inline><li>0.0993875402417401</li><li>0.797528353121989</li><li>0.297861049279809</li><li>-0.436233932623961</li></ol>\n"
      ],
      "text/latex": [
       "\\begin{enumerate*}\n",
       "\\item 0.0993875402417401\n",
       "\\item 0.797528353121989\n",
       "\\item 0.297861049279809\n",
       "\\item -0.436233932623961\n",
       "\\end{enumerate*}\n"
      ],
      "text/markdown": [
       "1. 0.0993875402417401\n",
       "2. 0.797528353121989\n",
       "3. 0.297861049279809\n",
       "4. -0.436233932623961\n",
       "\n",
       "\n"
      ],
      "text/plain": [
       "[1]  0.09938754  0.79752835  0.29786105 -0.43623393"
      ]
     },
     "metadata": {},
     "output_type": "display_data"
    }
   ],
   "source": [
    "(output <- vector(\"double\", ncol(df)))     #1.输出\n",
    "seq_along(df)\n",
    "1:length(df)\n",
    "for (i in seq_along(df)) {               #2.迭代器\n",
    "  output[[i]] <- median(df[[i]])         #3.循环体\n",
    "}\n",
    "output  #输出结果略"
   ]
  },
  {
   "cell_type": "markdown",
   "id": "294a783e",
   "metadata": {},
   "source": [
    "## 2. for循环变种"
   ]
  },
  {
   "cell_type": "markdown",
   "id": "a4b2aca0",
   "metadata": {},
   "source": [
    "(1) 修改已存在的对象，创建的新对象\n",
    "\n",
    "有时需要用for循环修改一个已存在的对象，例如，对数据框 df 的每一列做归一化："
   ]
  },
  {
   "cell_type": "code",
   "execution_count": 15,
   "id": "8312ee0b",
   "metadata": {},
   "outputs": [
    {
     "data": {
      "text/html": [
       "<table class=\"dataframe\">\n",
       "<caption>A tibble: 10 × 4</caption>\n",
       "<thead>\n",
       "\t<tr><th scope=col>a</th><th scope=col>b</th><th scope=col>c</th><th scope=col>d</th></tr>\n",
       "\t<tr><th scope=col>&lt;dbl&gt;</th><th scope=col>&lt;dbl&gt;</th><th scope=col>&lt;dbl&gt;</th><th scope=col>&lt;dbl&gt;</th></tr>\n",
       "</thead>\n",
       "<tbody>\n",
       "\t<tr><td>0.6028099</td><td>0.8453405</td><td>0.0000000</td><td>0.0531833</td></tr>\n",
       "\t<tr><td>0.1531119</td><td>0.4763438</td><td>0.8354340</td><td>0.5515915</td></tr>\n",
       "\t<tr><td>0.2373135</td><td>0.9793803</td><td>0.5370804</td><td>0.3769655</td></tr>\n",
       "\t<tr><td>0.5513326</td><td>1.0000000</td><td>0.9747027</td><td>0.5880615</td></tr>\n",
       "\t<tr><td>0.7789629</td><td>0.7799875</td><td>0.9110067</td><td>0.6131823</td></tr>\n",
       "\t<tr><td>1.0000000</td><td>0.5907499</td><td>0.2795518</td><td>1.0000000</td></tr>\n",
       "\t<tr><td>0.3041474</td><td>0.6147344</td><td>0.5879819</td><td>0.3828811</td></tr>\n",
       "\t<tr><td>0.0000000</td><td>0.5536137</td><td>1.0000000</td><td>0.4502584</td></tr>\n",
       "\t<tr><td>0.3804929</td><td>0.9319888</td><td>0.7109771</td><td>0.5871246</td></tr>\n",
       "\t<tr><td>0.4031929</td><td>0.0000000</td><td>0.9842071</td><td>0.0000000</td></tr>\n",
       "</tbody>\n",
       "</table>\n"
      ],
      "text/latex": [
       "A tibble: 10 × 4\n",
       "\\begin{tabular}{llll}\n",
       " a & b & c & d\\\\\n",
       " <dbl> & <dbl> & <dbl> & <dbl>\\\\\n",
       "\\hline\n",
       "\t 0.6028099 & 0.8453405 & 0.0000000 & 0.0531833\\\\\n",
       "\t 0.1531119 & 0.4763438 & 0.8354340 & 0.5515915\\\\\n",
       "\t 0.2373135 & 0.9793803 & 0.5370804 & 0.3769655\\\\\n",
       "\t 0.5513326 & 1.0000000 & 0.9747027 & 0.5880615\\\\\n",
       "\t 0.7789629 & 0.7799875 & 0.9110067 & 0.6131823\\\\\n",
       "\t 1.0000000 & 0.5907499 & 0.2795518 & 1.0000000\\\\\n",
       "\t 0.3041474 & 0.6147344 & 0.5879819 & 0.3828811\\\\\n",
       "\t 0.0000000 & 0.5536137 & 1.0000000 & 0.4502584\\\\\n",
       "\t 0.3804929 & 0.9319888 & 0.7109771 & 0.5871246\\\\\n",
       "\t 0.4031929 & 0.0000000 & 0.9842071 & 0.0000000\\\\\n",
       "\\end{tabular}\n"
      ],
      "text/markdown": [
       "\n",
       "A tibble: 10 × 4\n",
       "\n",
       "| a &lt;dbl&gt; | b &lt;dbl&gt; | c &lt;dbl&gt; | d &lt;dbl&gt; |\n",
       "|---|---|---|---|\n",
       "| 0.6028099 | 0.8453405 | 0.0000000 | 0.0531833 |\n",
       "| 0.1531119 | 0.4763438 | 0.8354340 | 0.5515915 |\n",
       "| 0.2373135 | 0.9793803 | 0.5370804 | 0.3769655 |\n",
       "| 0.5513326 | 1.0000000 | 0.9747027 | 0.5880615 |\n",
       "| 0.7789629 | 0.7799875 | 0.9110067 | 0.6131823 |\n",
       "| 1.0000000 | 0.5907499 | 0.2795518 | 1.0000000 |\n",
       "| 0.3041474 | 0.6147344 | 0.5879819 | 0.3828811 |\n",
       "| 0.0000000 | 0.5536137 | 1.0000000 | 0.4502584 |\n",
       "| 0.3804929 | 0.9319888 | 0.7109771 | 0.5871246 |\n",
       "| 0.4031929 | 0.0000000 | 0.9842071 | 0.0000000 |\n",
       "\n"
      ],
      "text/plain": [
       "   a         b         c         d        \n",
       "1  0.6028099 0.8453405 0.0000000 0.0531833\n",
       "2  0.1531119 0.4763438 0.8354340 0.5515915\n",
       "3  0.2373135 0.9793803 0.5370804 0.3769655\n",
       "4  0.5513326 1.0000000 0.9747027 0.5880615\n",
       "5  0.7789629 0.7799875 0.9110067 0.6131823\n",
       "6  1.0000000 0.5907499 0.2795518 1.0000000\n",
       "7  0.3041474 0.6147344 0.5879819 0.3828811\n",
       "8  0.0000000 0.5536137 1.0000000 0.4502584\n",
       "9  0.3804929 0.9319888 0.7109771 0.5871246\n",
       "10 0.4031929 0.0000000 0.9842071 0.0000000"
      ]
     },
     "metadata": {},
     "output_type": "display_data"
    }
   ],
   "source": [
    "rescale01 <- function(x) {\n",
    "  rng <- range(x, na.rm = TRUE)\n",
    "  (x - rng[1]) / (rng[2] - rng[1])\n",
    "}\n",
    "df$a <- rescale01(df$a)\n",
    "df$b <- rescale01(df$b)\n",
    "df$c <- rescale01(df$c)\n",
    "df$d <- rescale01(df$d)\n",
    "df"
   ]
  },
  {
   "cell_type": "code",
   "execution_count": 16,
   "id": "41e90f08",
   "metadata": {},
   "outputs": [
    {
     "data": {
      "text/html": [
       "<table class=\"dataframe\">\n",
       "<caption>A tibble: 10 × 4</caption>\n",
       "<thead>\n",
       "\t<tr><th scope=col>a</th><th scope=col>b</th><th scope=col>c</th><th scope=col>d</th></tr>\n",
       "\t<tr><th scope=col>&lt;dbl&gt;</th><th scope=col>&lt;dbl&gt;</th><th scope=col>&lt;dbl&gt;</th><th scope=col>&lt;dbl&gt;</th></tr>\n",
       "</thead>\n",
       "<tbody>\n",
       "\t<tr><td>0.6028099</td><td>0.8453405</td><td>0.0000000</td><td>0.0531833</td></tr>\n",
       "\t<tr><td>0.1531119</td><td>0.4763438</td><td>0.8354340</td><td>0.5515915</td></tr>\n",
       "\t<tr><td>0.2373135</td><td>0.9793803</td><td>0.5370804</td><td>0.3769655</td></tr>\n",
       "\t<tr><td>0.5513326</td><td>1.0000000</td><td>0.9747027</td><td>0.5880615</td></tr>\n",
       "\t<tr><td>0.7789629</td><td>0.7799875</td><td>0.9110067</td><td>0.6131823</td></tr>\n",
       "\t<tr><td>1.0000000</td><td>0.5907499</td><td>0.2795518</td><td>1.0000000</td></tr>\n",
       "\t<tr><td>0.3041474</td><td>0.6147344</td><td>0.5879819</td><td>0.3828811</td></tr>\n",
       "\t<tr><td>0.0000000</td><td>0.5536137</td><td>1.0000000</td><td>0.4502584</td></tr>\n",
       "\t<tr><td>0.3804929</td><td>0.9319888</td><td>0.7109771</td><td>0.5871246</td></tr>\n",
       "\t<tr><td>0.4031929</td><td>0.0000000</td><td>0.9842071</td><td>0.0000000</td></tr>\n",
       "</tbody>\n",
       "</table>\n"
      ],
      "text/latex": [
       "A tibble: 10 × 4\n",
       "\\begin{tabular}{llll}\n",
       " a & b & c & d\\\\\n",
       " <dbl> & <dbl> & <dbl> & <dbl>\\\\\n",
       "\\hline\n",
       "\t 0.6028099 & 0.8453405 & 0.0000000 & 0.0531833\\\\\n",
       "\t 0.1531119 & 0.4763438 & 0.8354340 & 0.5515915\\\\\n",
       "\t 0.2373135 & 0.9793803 & 0.5370804 & 0.3769655\\\\\n",
       "\t 0.5513326 & 1.0000000 & 0.9747027 & 0.5880615\\\\\n",
       "\t 0.7789629 & 0.7799875 & 0.9110067 & 0.6131823\\\\\n",
       "\t 1.0000000 & 0.5907499 & 0.2795518 & 1.0000000\\\\\n",
       "\t 0.3041474 & 0.6147344 & 0.5879819 & 0.3828811\\\\\n",
       "\t 0.0000000 & 0.5536137 & 1.0000000 & 0.4502584\\\\\n",
       "\t 0.3804929 & 0.9319888 & 0.7109771 & 0.5871246\\\\\n",
       "\t 0.4031929 & 0.0000000 & 0.9842071 & 0.0000000\\\\\n",
       "\\end{tabular}\n"
      ],
      "text/markdown": [
       "\n",
       "A tibble: 10 × 4\n",
       "\n",
       "| a &lt;dbl&gt; | b &lt;dbl&gt; | c &lt;dbl&gt; | d &lt;dbl&gt; |\n",
       "|---|---|---|---|\n",
       "| 0.6028099 | 0.8453405 | 0.0000000 | 0.0531833 |\n",
       "| 0.1531119 | 0.4763438 | 0.8354340 | 0.5515915 |\n",
       "| 0.2373135 | 0.9793803 | 0.5370804 | 0.3769655 |\n",
       "| 0.5513326 | 1.0000000 | 0.9747027 | 0.5880615 |\n",
       "| 0.7789629 | 0.7799875 | 0.9110067 | 0.6131823 |\n",
       "| 1.0000000 | 0.5907499 | 0.2795518 | 1.0000000 |\n",
       "| 0.3041474 | 0.6147344 | 0.5879819 | 0.3828811 |\n",
       "| 0.0000000 | 0.5536137 | 1.0000000 | 0.4502584 |\n",
       "| 0.3804929 | 0.9319888 | 0.7109771 | 0.5871246 |\n",
       "| 0.4031929 | 0.0000000 | 0.9842071 | 0.0000000 |\n",
       "\n"
      ],
      "text/plain": [
       "   a         b         c         d        \n",
       "1  0.6028099 0.8453405 0.0000000 0.0531833\n",
       "2  0.1531119 0.4763438 0.8354340 0.5515915\n",
       "3  0.2373135 0.9793803 0.5370804 0.3769655\n",
       "4  0.5513326 1.0000000 0.9747027 0.5880615\n",
       "5  0.7789629 0.7799875 0.9110067 0.6131823\n",
       "6  1.0000000 0.5907499 0.2795518 1.0000000\n",
       "7  0.3041474 0.6147344 0.5879819 0.3828811\n",
       "8  0.0000000 0.5536137 1.0000000 0.4502584\n",
       "9  0.3804929 0.9319888 0.7109771 0.5871246\n",
       "10 0.4031929 0.0000000 0.9842071 0.0000000"
      ]
     },
     "metadata": {},
     "output_type": "display_data"
    }
   ],
   "source": [
    "for (i in seq_along(df)) {\n",
    "    df[[i]] <- rescale01(df[[i]])\n",
    "}\n",
    "df"
   ]
  },
  {
   "cell_type": "markdown",
   "id": "bff59fbf",
   "metadata": {},
   "source": [
    "(2) 循环模式\n",
    "\n",
    "· 根据数值索引：for(i in seq_along(xs), 用x[[i]] 提取值。\n",
    "\n",
    "· 根据元素值：for(x in xs). 若你只关心附带作用，这特别有用。例如绘图、保存文件等，因为很难高效率地保存这种结果。\n",
    "\n",
    "· 根据名字：for(nm in names(xs)). 对每个名字，访问其对应的值 x[[nm]], 若你需要使用图形标题或文件的名称，这就很有用。当创建命名的输出时，确保按如下方式命名结果向量："
   ]
  },
  {
   "cell_type": "markdown",
   "id": "7d409046",
   "metadata": {},
   "source": [
    "(3) 结果长度未知\n",
    "\n",
    "有时候，你可能不知道输出结果有多长。例如，你想要模拟一些长度随机的随机向量。你可能优先想到通过逐步增加长度的方法解决该问题："
   ]
  },
  {
   "cell_type": "code",
   "execution_count": 18,
   "id": "e363b470",
   "metadata": {},
   "outputs": [
    {
     "name": "stdout",
     "output_type": "stream",
     "text": [
      " num [1:228] -0.0442 -0.6136 -1.0149 0.4602 -0.0931 ...\n"
     ]
    }
   ],
   "source": [
    "means <- c(0, 1, 2)\n",
    "output <- double() #c()\n",
    "for (i in seq_along(means)) {\n",
    "  n <- sample(100, 1)\n",
    "  output <- c(output, rnorm(n, means[[i]]))\n",
    "}\n",
    "str(output)"
   ]
  },
  {
   "cell_type": "markdown",
   "id": "226111e2",
   "metadata": {},
   "source": [
    "但这种做法很低效，因为每次迭代，R都要复制上一次迭代的全部数据 .\n",
    "\n",
    "一个好的方法是，先将结果保存为列表，等循环结束再将列表重组为一个单独的向量："
   ]
  },
  {
   "cell_type": "code",
   "execution_count": 19,
   "id": "967faeeb",
   "metadata": {},
   "outputs": [
    {
     "name": "stdout",
     "output_type": "stream",
     "text": [
      "List of 3\n",
      " $ : num [1:51] -1.6787 0.0505 -0.0601 0.4983 -0.5366 ...\n",
      " $ : num [1:53] 1.439 1.477 1.9 3.239 0.438 ...\n",
      " $ : num [1:85] 2.977 2.459 0.913 1.67 0.775 ...\n"
     ]
    }
   ],
   "source": [
    "out <- vector(\"list\", length(means))\n",
    "for (i in seq_along(means)) {\n",
    "  n <- sample(100, 1)\n",
    "  out[[i]] <- rnorm(n, means[[i]])\n",
    "}\n",
    "str(out)"
   ]
  },
  {
   "cell_type": "code",
   "execution_count": 20,
   "id": "c13b7544",
   "metadata": {},
   "outputs": [
    {
     "name": "stdout",
     "output_type": "stream",
     "text": [
      " num [1:189] -1.6787 0.0505 -0.0601 0.4983 -0.5366 ...\n"
     ]
    }
   ],
   "source": [
    "str(unlist(out))"
   ]
  },
  {
   "cell_type": "markdown",
   "id": "b6b138ee",
   "metadata": {},
   "source": [
    "这里是用unlist()函数将一个向量的列表摊平为一个单独的向量。更严格的方法是用purrr包中的flatten_dbl(), 若输入不是double型的列表，将会报错。\n",
    "\n",
    "还有两种结果长度未知的情形：\n",
    "\n",
    "· 生成一个长字符串。不是用paste()函数将上一次的迭代结果拼接到一起，而是将结果保存为字符向量，再用函数paste(output, collapse= \" \")合并为一个单独的字符串；\n",
    "\n",
    "· 生成一个大的数据框。不是依次用rbind()函数合并每次迭代的结果，而是将结果保存为列表，再用dplyr包中的bind_rows(output)函数合并成一个单独的数据框。\n",
    "\n",
    "所以，遇到上述模式时，要先转化为更复杂的结果对象，最后再做一步合并。"
   ]
  },
  {
   "cell_type": "markdown",
   "id": "4f83ab4f",
   "metadata": {},
   "source": [
    "## 3. while循环"
   ]
  },
  {
   "cell_type": "markdown",
   "id": "c2ea13f2",
   "metadata": {},
   "source": [
    "有时候你甚至不知道输入序列有多长，这通常出现在做模拟的时候。例如，你可能想要在一行中循环直到连续出现3个“Head”，此时不适合用for循环，而是适合用while循环。\n",
    "\n",
    "while循环更简单些，因为它只包含两个组件：条件、循环体："
   ]
  },
  {
   "cell_type": "markdown",
   "id": "a7198d92",
   "metadata": {},
   "source": [
    "while (condition) {\n",
    "\n",
    "  #body\n",
    "  \n",
    "}"
   ]
  },
  {
   "cell_type": "markdown",
   "id": "3b37b45b",
   "metadata": {},
   "source": [
    "While循环是比for循环更一般的循环，因为for循环总可以改写为while循环，但while循环不一定能改写为for循环："
   ]
  },
  {
   "cell_type": "markdown",
   "id": "045bf6c9",
   "metadata": {},
   "source": [
    "下面用while循环实现：抛一枚硬币直到连续出现3次“正面”，需要的次数："
   ]
  },
  {
   "cell_type": "code",
   "execution_count": 21,
   "id": "13c1b076",
   "metadata": {},
   "outputs": [
    {
     "data": {
      "text/html": [
       "5"
      ],
      "text/latex": [
       "5"
      ],
      "text/markdown": [
       "5"
      ],
      "text/plain": [
       "[1] 5"
      ]
     },
     "metadata": {},
     "output_type": "display_data"
    }
   ],
   "source": [
    "flip <- function() sample(c(\"Tail\", \"Head\"), 1)\n",
    " \n",
    "flips <- 0\n",
    "nheads <- 0\n",
    " \n",
    "while (nheads < 3) {\n",
    "  if (flip() == \"Head\") {\n",
    "    nheads <- nheads + 1\n",
    "  } else {\n",
    "    nheads <- 0\n",
    "  }\n",
    "  flips <- flips + 1\n",
    "}\n",
    "flips"
   ]
  },
  {
   "cell_type": "markdown",
   "id": "00fc5f18",
   "metadata": {},
   "source": [
    "## 4. Repeat循环"
   ]
  },
  {
   "cell_type": "markdown",
   "id": "53ec596b",
   "metadata": {},
   "source": [
    "repeat 循环会一直执行代码，直到条件语句为 true 时才退出循环，退出要使用到 break 语句。\n",
    "\n",
    "语法格式如下："
   ]
  },
  {
   "cell_type": "markdown",
   "id": "7c64fa48",
   "metadata": {},
   "source": [
    "repeat { \n",
    "\n",
    "    // 相关代码 \n",
    "    \n",
    "    if(condition) {\n",
    "    \n",
    "       break\n",
    "       \n",
    "    }\n",
    "}"
   ]
  },
  {
   "cell_type": "markdown",
   "id": "3f4b109d",
   "metadata": {},
   "source": [
    "以下实例在变量 cnt 为 5 时退出循环，cnt 为计数变量："
   ]
  },
  {
   "cell_type": "code",
   "execution_count": 22,
   "id": "2308bcc3",
   "metadata": {},
   "outputs": [
    {
     "name": "stdout",
     "output_type": "stream",
     "text": [
      "[1] \"Google\" \"Runoob\"\n",
      "[1] \"Google\" \"Runoob\"\n",
      "[1] \"Google\" \"Runoob\"\n",
      "[1] \"Google\" \"Runoob\"\n"
     ]
    }
   ],
   "source": [
    "v <- c(\"Google\",\"Runoob\")\n",
    "cnt <- 2\n",
    "\n",
    "repeat {\n",
    "   print(v)\n",
    "   cnt <- cnt+1\n",
    "   \n",
    "   if(cnt > 5) {\n",
    "      break\n",
    "   }\n",
    "}"
   ]
  },
  {
   "cell_type": "markdown",
   "id": "ae222422",
   "metadata": {},
   "source": [
    "## 循环控制\n",
    "### break"
   ]
  },
  {
   "cell_type": "markdown",
   "id": "65a1627e",
   "metadata": {},
   "source": [
    "R 语言的 break 语句插入在循环体中，用于退出当前循环或语句，并开始脚本执行紧接着的语句。\n",
    "\n",
    "如果你使用循环嵌套，break 语句将停止最内层循环的执行，并开始执行的外层的循环语句。\n",
    "\n",
    "break 也常用于 switch 语句中。"
   ]
  },
  {
   "cell_type": "markdown",
   "id": "dc9e094f",
   "metadata": {},
   "source": [
    "### next\n",
    "next 语句用于跳过当前循环，开始下一次循环（类似其他语言的 continue）。"
   ]
  },
  {
   "cell_type": "markdown",
   "id": "225c8c19",
   "metadata": {},
   "source": [
    "以下实例输出 26 个字母的前面 6 个字母，在字母为 D 的时候跳过当前的循环，进行下一次循环："
   ]
  },
  {
   "cell_type": "code",
   "execution_count": 23,
   "id": "de896212",
   "metadata": {},
   "outputs": [
    {
     "name": "stdout",
     "output_type": "stream",
     "text": [
      "[1] \"A\"\n",
      "[1] \"B\"\n",
      "[1] \"C\"\n",
      "[1] \"E\"\n",
      "[1] \"F\"\n"
     ]
    }
   ],
   "source": [
    "v <- LETTERS[1:6]\n",
    "for ( i in v) {\n",
    "   \n",
    "   if (i == \"D\") {  # D 不会输出，跳过这次循环，进入下一次\n",
    "      next\n",
    "   }\n",
    "   print(i)\n",
    "}"
   ]
  },
  {
   "cell_type": "markdown",
   "id": "067a2a5e",
   "metadata": {},
   "source": [
    "本节课资料来源：\n",
    "\n",
    "https://www.runoob.com/r/r-loop.html\n",
    "\n",
    "https://zhuanlan.zhihu.com/p/70502734"
   ]
  }
 ],
 "metadata": {
  "kernelspec": {
   "display_name": "R",
   "language": "R",
   "name": "ir"
  },
  "language_info": {
   "codemirror_mode": "r",
   "file_extension": ".r",
   "mimetype": "text/x-r-source",
   "name": "R",
   "pygments_lexer": "r",
   "version": "4.1.3"
  }
 },
 "nbformat": 4,
 "nbformat_minor": 5
}
